{
 "cells": [
  {
   "cell_type": "code",
   "execution_count": 1,
   "id": "8990d1cb-a4c8-4b25-9f70-975283e01893",
   "metadata": {},
   "outputs": [
    {
     "name": "stdout",
     "output_type": "stream",
     "text": [
      "Requirement already satisfied: opencv-python-headless in c:\\users\\asras\\anaconda3\\lib\\site-packages (4.10.0.84)\n",
      "Requirement already satisfied: numpy in c:\\users\\asras\\anaconda3\\lib\\site-packages (1.26.4)\n",
      "Requirement already satisfied: imutils in c:\\users\\asras\\anaconda3\\lib\\site-packages (0.5.4)\n",
      "Requirement already satisfied: scipy in c:\\users\\asras\\anaconda3\\lib\\site-packages (1.13.1)\n",
      "Requirement already satisfied: matplotlib in c:\\users\\asras\\anaconda3\\lib\\site-packages (3.8.4)\n",
      "Requirement already satisfied: contourpy>=1.0.1 in c:\\users\\asras\\anaconda3\\lib\\site-packages (from matplotlib) (1.2.0)\n",
      "Requirement already satisfied: cycler>=0.10 in c:\\users\\asras\\anaconda3\\lib\\site-packages (from matplotlib) (0.11.0)\n",
      "Requirement already satisfied: fonttools>=4.22.0 in c:\\users\\asras\\anaconda3\\lib\\site-packages (from matplotlib) (4.51.0)\n",
      "Requirement already satisfied: kiwisolver>=1.3.1 in c:\\users\\asras\\anaconda3\\lib\\site-packages (from matplotlib) (1.4.4)\n",
      "Requirement already satisfied: packaging>=20.0 in c:\\users\\asras\\anaconda3\\lib\\site-packages (from matplotlib) (23.2)\n",
      "Requirement already satisfied: pillow>=8 in c:\\users\\asras\\anaconda3\\lib\\site-packages (from matplotlib) (10.3.0)\n",
      "Requirement already satisfied: pyparsing>=2.3.1 in c:\\users\\asras\\anaconda3\\lib\\site-packages (from matplotlib) (3.0.9)\n",
      "Requirement already satisfied: python-dateutil>=2.7 in c:\\users\\asras\\anaconda3\\lib\\site-packages (from matplotlib) (2.9.0.post0)\n",
      "Requirement already satisfied: six>=1.5 in c:\\users\\asras\\anaconda3\\lib\\site-packages (from python-dateutil>=2.7->matplotlib) (1.16.0)\n"
     ]
    }
   ],
   "source": [
    "!pip install opencv-python-headless numpy imutils scipy matplotlib"
   ]
  },
  {
   "cell_type": "code",
   "execution_count": 3,
   "id": "f2681378-938b-4bf5-9acc-9ff8982ae756",
   "metadata": {},
   "outputs": [],
   "source": [
    "import cv2\n",
    "import numpy as np\n",
    "import imutils\n",
    "from scipy.spatial import distance as dist\n",
    "from imutils import contours\n",
    "from imutils import perspective\n",
    "import matplotlib.pyplot as plt"
   ]
  },
  {
   "cell_type": "code",
   "execution_count": 5,
   "id": "b627bf53-43ab-451e-89dc-ca4cd67b204f",
   "metadata": {},
   "outputs": [
    {
     "name": "stdout",
     "output_type": "stream",
     "text": [
      "Requirement already satisfied: opencv-python-headless in c:\\users\\asras\\anaconda3\\lib\\site-packages (4.10.0.84)\n",
      "Requirement already satisfied: numpy in c:\\users\\asras\\anaconda3\\lib\\site-packages (1.26.4)\n",
      "Requirement already satisfied: imutils in c:\\users\\asras\\anaconda3\\lib\\site-packages (0.5.4)\n",
      "Requirement already satisfied: scipy in c:\\users\\asras\\anaconda3\\lib\\site-packages (1.13.1)\n",
      "Requirement already satisfied: matplotlib in c:\\users\\asras\\anaconda3\\lib\\site-packages (3.8.4)\n",
      "Requirement already satisfied: contourpy>=1.0.1 in c:\\users\\asras\\anaconda3\\lib\\site-packages (from matplotlib) (1.2.0)\n",
      "Requirement already satisfied: cycler>=0.10 in c:\\users\\asras\\anaconda3\\lib\\site-packages (from matplotlib) (0.11.0)\n",
      "Requirement already satisfied: fonttools>=4.22.0 in c:\\users\\asras\\anaconda3\\lib\\site-packages (from matplotlib) (4.51.0)\n",
      "Requirement already satisfied: kiwisolver>=1.3.1 in c:\\users\\asras\\anaconda3\\lib\\site-packages (from matplotlib) (1.4.4)\n",
      "Requirement already satisfied: packaging>=20.0 in c:\\users\\asras\\anaconda3\\lib\\site-packages (from matplotlib) (23.2)\n",
      "Requirement already satisfied: pillow>=8 in c:\\users\\asras\\anaconda3\\lib\\site-packages (from matplotlib) (10.3.0)\n",
      "Requirement already satisfied: pyparsing>=2.3.1 in c:\\users\\asras\\anaconda3\\lib\\site-packages (from matplotlib) (3.0.9)\n",
      "Requirement already satisfied: python-dateutil>=2.7 in c:\\users\\asras\\anaconda3\\lib\\site-packages (from matplotlib) (2.9.0.post0)\n",
      "Requirement already satisfied: six>=1.5 in c:\\users\\asras\\anaconda3\\lib\\site-packages (from python-dateutil>=2.7->matplotlib) (1.16.0)\n"
     ]
    }
   ],
   "source": [
    "import cv2\n",
    "import numpy as np\n",
    "import imutils\n",
    "from scipy.spatial import distance as dist\n",
    "from imutils import contours\n",
    "from imutils import perspective\n",
    "import matplotlib.pyplot as plt\n",
    "\n",
    "# Install any missing libraries\n",
    "!pip install opencv-python-headless numpy imutils scipy matplotlib"
   ]
  },
  {
   "cell_type": "code",
   "execution_count": 7,
   "id": "93fe8465-f9b2-4369-a44a-54c01b04952c",
   "metadata": {},
   "outputs": [],
   "source": [
    "def midpoint(ptA, ptB):\n",
    "    return ((ptA[0] + ptB[0]) * 0.5, (ptA[1] + ptB[1]) * 0.5)\n",
    "\n",
    "def calculate_dimensions(image, width):\n",
    "    gray = cv2.cvtColor(image, cv2.COLOR_BGR2GRAY)\n",
    "    gray = cv2.GaussianBlur(gray, (7, 7), 0)\n",
    "    edged = cv2.Canny(gray, 50, 100)\n",
    "    edged = cv2.dilate(edged, None, iterations=1)\n",
    "    edged = cv2.erode(edged, None, iterations=1)\n",
    "    \n",
    "    cnts = cv2.findContours(edged.copy(), cv2.RETR_EXTERNAL, cv2.CHAIN_APPROX_SIMPLE)\n",
    "    cnts = imutils.grab_contours(cnts)\n",
    "    \n",
    "    (cnts, _) = contours.sort_contours(cnts)\n",
    "    pixels_per_metric = None\n",
    "    output_image = image.copy()\n",
    "\n",
    "    for c in cnts:\n",
    "        if cv2.contourArea(c) < 100:\n",
    "            continue\n",
    "\n",
    "        box = cv2.minAreaRect(c)\n",
    "        box = cv2.boxPoints(box) if imutils.is_cv4() else cv2.cv.BoxPoints(box)\n",
    "        box = np.array(box, dtype=\"int\")\n",
    "        box = perspective.order_points(box)\n",
    "\n",
    "        cv2.drawContours(output_image, [box.astype(\"int\")], -1, (0, 255, 0), 2)\n",
    "        \n",
    "        for (x, y) in box:\n",
    "            cv2.circle(output_image, (int(x), int(y)), 5, (0, 0, 255), -1)\n",
    "\n",
    "        (tl, tr, br, bl) = box\n",
    "        (tltrX, tltrY) = midpoint(tl, tr)\n",
    "        (blbrX, blbrY) = midpoint(bl, br)\n",
    "        (tlblX, tlblY) = midpoint(tl, bl)\n",
    "        (trbrX, trbrY) = midpoint(tr, br)\n",
    "        \n",
    "        dA = dist.euclidean((tltrX, tltrY), (blbrX, blbrY))\n",
    "        dB = dist.euclidean((tlblX, tlblY), (trbrX, trbrY))\n",
    "        \n",
    "        if pixels_per_metric is None:\n",
    "            pixels_per_metric = dB / width\n",
    "\n",
    "        dimA = dA / pixels_per_metric\n",
    "        dimB = dB / pixels_per_metric\n",
    "\n",
    "        cv2.putText(output_image, \"{:.1f}in\".format(dimA),\n",
    "                    (int(tltrX - 10), int(tltrY - 10)), cv2.FONT_HERSHEY_SIMPLEX,\n",
    "                    0.65, (255, 255, 255), 2)\n",
    "        cv2.putText(output_image, \"{:.1f}in\".format(dimB),\n",
    "                    (int(trbrX + 10), int(trbrY)), cv2.FONT_HERSHEY_SIMPLEX,\n",
    "                    0.65, (255, 255, 255), 2)\n",
    "    \n",
    "    return output_image"
   ]
  },
  {
   "cell_type": "code",
   "execution_count": null,
   "id": "125a999c-8ea5-4c79-a552-a3e8c8c32142",
   "metadata": {},
   "outputs": [],
   "source": [
    "def capture_image_from_webcam():\n",
    "    cap = cv2.VideoCapture(0)\n",
    "    \n",
    "    if not cap.isOpened():\n",
    "        print(\"Error: Could not open webcam.\")\n",
    "        return None\n",
    "\n",
    "    while True:\n",
    "        ret, frame = cap.read()\n",
    "        \n",
    "        if not ret:\n",
    "            print(\"Error: Could not read frame.\")\n",
    "            break\n",
    "\n",
    "        cv2.imshow(\"Webcam\", frame)\n",
    "\n",
    "        if cv2.waitKey(1) & 0xFF == ord('c'):\n",
    "            cv2.imwrite('captured_image.png', frame)\n",
    "            break\n",
    "\n",
    "    cap.release()\n",
    "    cv2.destroyAllWindows()\n",
    "    return frame\n",
    "\n",
    "captured_image = capture_image_from_webcam()\n",
    "if captured_image is not None:\n",
    "    output_image = calculate_dimensions(captured_image, 0.955)\n",
    "    plt.imshow(cv2.cvtColor(output_image, cv2.COLOR_BGR2RGB))\n",
    "    plt.axis('off')\n",
    "    plt.show()"
   ]
  },
  {
   "cell_type": "code",
   "execution_count": null,
   "id": "7e559437-05f8-4ce9-bc57-412db5b81ca9",
   "metadata": {},
   "outputs": [],
   "source": []
  }
 ],
 "metadata": {
  "kernelspec": {
   "display_name": "Python 3 (ipykernel)",
   "language": "python",
   "name": "python3"
  },
  "language_info": {
   "codemirror_mode": {
    "name": "ipython",
    "version": 3
   },
   "file_extension": ".py",
   "mimetype": "text/x-python",
   "name": "python",
   "nbconvert_exporter": "python",
   "pygments_lexer": "ipython3",
   "version": "3.12.4"
  }
 },
 "nbformat": 4,
 "nbformat_minor": 5
}
